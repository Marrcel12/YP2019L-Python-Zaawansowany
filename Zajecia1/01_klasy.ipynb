{
 "cells": [
  {
   "cell_type": "markdown",
   "metadata": {},
   "source": [
    "# Klasy"
   ]
  },
  {
   "cell_type": "code",
   "execution_count": 12,
   "metadata": {},
   "outputs": [],
   "source": [
    "class Punkt:\n",
    "    def __init__(self, x, y):\n",
    "        self.x = x\n",
    "        self.y = y\n",
    "        \n",
    "    def wypisz_punkt(self):\n",
    "        print(f\"Punkt ({self.x}, {self.y})\")"
   ]
  },
  {
   "cell_type": "code",
   "execution_count": 13,
   "metadata": {},
   "outputs": [
    {
     "name": "stdout",
     "output_type": "stream",
     "text": [
      "Punkt (2, 3)\n"
     ]
    }
   ],
   "source": [
    "p = Punkt(2,3)\n",
    "p.wypisz_punkt()"
   ]
  },
  {
   "cell_type": "code",
   "execution_count": 15,
   "metadata": {},
   "outputs": [
    {
     "name": "stdout",
     "output_type": "stream",
     "text": [
      "Punkt (2, 3)\n",
      "None\n"
     ]
    }
   ],
   "source": [
    "p2 = Punkt(2,3)\n",
    "nowy_punkt = p2.wypisz_punkt()\n",
    "print(nowy_punkt)"
   ]
  },
  {
   "cell_type": "code",
   "execution_count": 16,
   "metadata": {},
   "outputs": [],
   "source": [
    "class Punkt:\n",
    "    def __init__(self, x, y):\n",
    "        self.x = x\n",
    "        self.y = y\n",
    "        \n",
    "    def wypisz_punkt(self):\n",
    "        print(f\"Punkt ({self.x}, {self.y})\")\n",
    "    \n",
    "    def zwroc_punkt(self):\n",
    "        return f\"Punkt ({self.x}, {self.y})\""
   ]
  },
  {
   "cell_type": "code",
   "execution_count": 18,
   "metadata": {},
   "outputs": [
    {
     "name": "stdout",
     "output_type": "stream",
     "text": [
      "PUNKT (1, 2)\n"
     ]
    }
   ],
   "source": [
    "p4 = Punkt(1,2)\n",
    "nowy = p4.zwroc_punkt()\n",
    "print(nowy.upper())"
   ]
  },
  {
   "cell_type": "code",
   "execution_count": 20,
   "metadata": {},
   "outputs": [],
   "source": [
    "from math import sqrt\n",
    "\n",
    "class PunktNowy:\n",
    "    def __init__(self, x, y):\n",
    "        self.x = x\n",
    "        self.y = y\n",
    "        \n",
    "    def wypisz_punkt(self):\n",
    "        print(f\"Punkt ({self.x}, {self.y})\")\n",
    "    \n",
    "    def zwroc_punkt(self):\n",
    "        return f\"Punkt ({self.x}, {self.y})\"\n",
    "    \n",
    "    def odleglosc_od_punktu(self, p):\n",
    "        return sqrt((p.x - self.x)**2 + (p.y - self.y)**2)\n"
   ]
  },
  {
   "cell_type": "code",
   "execution_count": 21,
   "metadata": {},
   "outputs": [
    {
     "data": {
      "text/plain": [
       "7.0"
      ]
     },
     "execution_count": 21,
     "metadata": {},
     "output_type": "execute_result"
    }
   ],
   "source": [
    "p1 = PunktNowy(3,4)\n",
    "p2 = PunktNowy(-4,4)\n",
    "p1.odleglosc_od_punktu(p2)"
   ]
  },
  {
   "cell_type": "code",
   "execution_count": 22,
   "metadata": {},
   "outputs": [],
   "source": [
    "from math import sqrt\n",
    "\n",
    "class PunktNowy2:\n",
    "    def __init__(self, x, y):\n",
    "        self.x = x\n",
    "        self.y = y\n",
    "        \n",
    "    def wypisz_punkt(self):\n",
    "        print(f\"Punkt ({self.x}, {self.y})\")\n",
    "    \n",
    "    def zwroc_punkt(self):\n",
    "        return f\"Punkt ({self.x}, {self.y})\"\n",
    "    \n",
    "    def odleglosc_od_punktu(self, p):\n",
    "        return sqrt((p.x - self.x)**2 + (p.y - self.y)**2)\n",
    "    \n",
    "    def odleglosc_od_00_1(self):\n",
    "        return sqrt(self.x**2 + self.y**2)\n",
    "    \n",
    "    def odleglosc_od_00_2(self):\n",
    "        return self.odleglosc_od_punktu(Punkt(0,0))\n",
    "    \n"
   ]
  },
  {
   "cell_type": "code",
   "execution_count": 23,
   "metadata": {},
   "outputs": [],
   "source": [
    "p3 = PunktNowy2(5,5)"
   ]
  },
  {
   "cell_type": "code",
   "execution_count": 24,
   "metadata": {},
   "outputs": [
    {
     "data": {
      "text/plain": [
       "7.0710678118654755"
      ]
     },
     "execution_count": 24,
     "metadata": {},
     "output_type": "execute_result"
    }
   ],
   "source": [
    "p3.odleglosc_od_00_1()"
   ]
  },
  {
   "cell_type": "code",
   "execution_count": 25,
   "metadata": {},
   "outputs": [
    {
     "data": {
      "text/plain": [
       "7.0710678118654755"
      ]
     },
     "execution_count": 25,
     "metadata": {},
     "output_type": "execute_result"
    }
   ],
   "source": [
    "p3.odleglosc_od_00_2()"
   ]
  },
  {
   "cell_type": "code",
   "execution_count": 27,
   "metadata": {},
   "outputs": [],
   "source": [
    "from math import sqrt\n",
    "\n",
    "class PunktPunktowy3:\n",
    "    def __init__(self, x, y = None):\n",
    "        if type(x) == PunktPunktowy3:\n",
    "                self.x = x.x\n",
    "                self.y = x.y\n",
    "        else:\n",
    "            self.x = x\n",
    "            self.y = y\n",
    "        \n",
    "    def wypisz_punkt(self):\n",
    "        print(f\"Punkt ({self.x}, {self.y})\")\n",
    "    \n",
    "    def zwroc_punkt(self):\n",
    "        return f\"Punkt ({self.x}, {self.y})\"\n",
    "    \n",
    "    def odleglosc_od_punktu(self, p):\n",
    "        return sqrt((p.x - self.x)**2 + (p.y - self.y)**2)\n",
    "    \n",
    "    def odleglosc_od_00_1(self):\n",
    "        return sqrt(self.x**2 + self.y**2)\n",
    "    \n",
    "    def odleglosc_od_00_2(self):\n",
    "        return self.odleglosc_od_punktu(Punkt(0,0))\n",
    "    \n"
   ]
  },
  {
   "cell_type": "code",
   "execution_count": 28,
   "metadata": {},
   "outputs": [],
   "source": [
    "p42 = PunktPunktowy3(1,2)"
   ]
  },
  {
   "cell_type": "code",
   "execution_count": 29,
   "metadata": {},
   "outputs": [],
   "source": [
    "p52 = PunktPunktowy3(p42)"
   ]
  },
  {
   "cell_type": "code",
   "execution_count": 30,
   "metadata": {},
   "outputs": [
    {
     "data": {
      "text/plain": [
       "2.23606797749979"
      ]
     },
     "execution_count": 30,
     "metadata": {},
     "output_type": "execute_result"
    }
   ],
   "source": [
    "p42.odleglosc_od_00_1()"
   ]
  },
  {
   "cell_type": "code",
   "execution_count": 31,
   "metadata": {},
   "outputs": [
    {
     "data": {
      "text/plain": [
       "2.23606797749979"
      ]
     },
     "execution_count": 31,
     "metadata": {},
     "output_type": "execute_result"
    }
   ],
   "source": [
    "p52.odleglosc_od_00_1()"
   ]
  },
  {
   "cell_type": "code",
   "execution_count": 32,
   "metadata": {},
   "outputs": [],
   "source": [
    "p42.x = 12"
   ]
  },
  {
   "cell_type": "code",
   "execution_count": 33,
   "metadata": {},
   "outputs": [
    {
     "data": {
      "text/plain": [
       "12.165525060596439"
      ]
     },
     "execution_count": 33,
     "metadata": {},
     "output_type": "execute_result"
    }
   ],
   "source": [
    "p42.odleglosc_od_00_1()"
   ]
  },
  {
   "cell_type": "code",
   "execution_count": 34,
   "metadata": {},
   "outputs": [
    {
     "data": {
      "text/plain": [
       "2.23606797749979"
      ]
     },
     "execution_count": 34,
     "metadata": {},
     "output_type": "execute_result"
    }
   ],
   "source": [
    "p52.odleglosc_od_00_1()"
   ]
  },
  {
   "cell_type": "code",
   "execution_count": null,
   "metadata": {},
   "outputs": [],
   "source": []
  }
 ],
 "metadata": {
  "kernelspec": {
   "display_name": "Python 3",
   "language": "python",
   "name": "python3"
  },
  "language_info": {
   "codemirror_mode": {
    "name": "ipython",
    "version": 3
   },
   "file_extension": ".py",
   "mimetype": "text/x-python",
   "name": "python",
   "nbconvert_exporter": "python",
   "pygments_lexer": "ipython3",
   "version": "3.7.2"
  }
 },
 "nbformat": 4,
 "nbformat_minor": 2
}
